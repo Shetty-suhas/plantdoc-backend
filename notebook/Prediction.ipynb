{
  "cells": [
    {
      "cell_type": "markdown",
      "metadata": {
        "id": "50yCucKHGrDM"
      },
      "source": [
        "# **Prediction**"
      ]
    },
    {
      "cell_type": "markdown",
      "metadata": {
        "id": "eb6E3d_1Gvp1"
      },
      "source": [
        "Medicinal Plants Prediction with the real time images through the Trained Model (Suport Vector Machine)"
      ]
    },
    {
      "cell_type": "markdown",
      "metadata": {
        "id": "gB5HCfptG5tW"
      },
      "source": [
        "## Importing Packages"
      ]
    },
    {
      "cell_type": "code",
      "execution_count": 4,
      "metadata": {
        "id": "S1LgKfohmSXS"
      },
      "outputs": [
        {
          "ename": "ModuleNotFoundError",
          "evalue": "No module named 'cv2'",
          "output_type": "error",
          "traceback": [
            "\u001b[31m---------------------------------------------------------------------------\u001b[39m",
            "\u001b[31mModuleNotFoundError\u001b[39m                       Traceback (most recent call last)",
            "\u001b[36mCell\u001b[39m\u001b[36m \u001b[39m\u001b[32mIn[4]\u001b[39m\u001b[32m, line 3\u001b[39m\n\u001b[32m      1\u001b[39m \u001b[38;5;28;01mimport\u001b[39;00m\u001b[38;5;250m \u001b[39m\u001b[34;01mos\u001b[39;00m\n\u001b[32m      2\u001b[39m \u001b[38;5;28;01mimport\u001b[39;00m\u001b[38;5;250m \u001b[39m\u001b[34;01msys\u001b[39;00m\n\u001b[32m----> \u001b[39m\u001b[32m3\u001b[39m \u001b[38;5;28;01mimport\u001b[39;00m\u001b[38;5;250m \u001b[39m\u001b[34;01mcv2\u001b[39;00m\n\u001b[32m      4\u001b[39m \u001b[38;5;28;01mimport\u001b[39;00m\u001b[38;5;250m \u001b[39m\u001b[34;01mshutil\u001b[39;00m\n\u001b[32m      5\u001b[39m \u001b[38;5;28;01mimport\u001b[39;00m\u001b[38;5;250m \u001b[39m\u001b[34;01mpickle\u001b[39;00m\n",
            "\u001b[31mModuleNotFoundError\u001b[39m: No module named 'cv2'"
          ]
        }
      ],
      "source": [
        "import os\n",
        "import sys\n",
        "import cv2\n",
        "import shutil\n",
        "import pickle\n",
        "import numpy as np\n",
        "from scipy import spatial\n",
        "from scipy.spatial import QhullError\n",
        "from sklearn.preprocessing import StandardScaler\n",
        "from sklearn.model_selection import GridSearchCV\n",
        "from skimage.filters import gabor\n",
        "from skimage import feature\n",
        "from skimage.feature import local_binary_pattern, graycomatrix, graycoprops\n",
        "from skimage import io, color, transform\n",
        "from sklearn.model_selection import train_test_split\n",
        "from sklearn.svm import SVC\n",
        "from sklearn.decomposition import PCA\n",
        "from sklearn import datasets"
      ]
    },
    {
      "cell_type": "markdown",
      "metadata": {
        "id": "Dw0NuIz7HDs_"
      },
      "source": [
        "## Data Preprocessing"
      ]
    },
    {
      "cell_type": "code",
      "execution_count": 2,
      "metadata": {
        "id": "GPS7EUgNnFKF"
      },
      "outputs": [],
      "source": [
        "def hsv_mask(image):\n",
        "  hsv_image = cv2.cvtColor(image, cv2.COLOR_BGR2HSV)\n",
        "\n",
        "  lower_saturation_threshold = 60\n",
        "  saturation_mask = cv2.inRange(hsv_image[:, :, 1], lower_saturation_threshold, 255)\n",
        "\n",
        "  kernel_size = (5, 5)\n",
        "  smoothed_mask = cv2.GaussianBlur(saturation_mask, kernel_size, 0)\n",
        "\n",
        "  _, leaf_mask = cv2.threshold(smoothed_mask, 1, 255, cv2.THRESH_BINARY)\n",
        "\n",
        "  kernel = np.ones((5, 5), np.uint8)\n",
        "  closed_mask = cv2.morphologyEx(leaf_mask, cv2.MORPH_CLOSE, kernel)\n",
        "\n",
        "  segmented_image = image.copy()\n",
        "\n",
        "  segmented_image[closed_mask == 0] = [0, 0, 0]\n",
        "  return segmented_image"
      ]
    },
    {
      "cell_type": "code",
      "execution_count": 3,
      "metadata": {
        "id": "C0qI73KanHhP"
      },
      "outputs": [],
      "source": [
        "def extract_lbp_glcm_features(image):\n",
        "\n",
        "    lbp = feature.local_binary_pattern(image, P=8, R=1, method='uniform')\n",
        "    lbp_hist, _ = np.histogram(lbp.ravel(), bins=np.arange(0, 10), range=(0, 10))\n",
        "    lbp_hist = lbp_hist.astype(float)\n",
        "    lbp_hist /= (lbp_hist.sum() + 1e-6)  # Normalize\n",
        "\n",
        "    glcm_props=[]\n",
        "    glcm = feature.graycomatrix((image * 255).astype(np.uint8), [1], [0], symmetric=True, normed=True)\n",
        "    glcm_props.append(feature.graycoprops(glcm, prop='dissimilarity'))\n",
        "    glcm_props.append(feature.graycoprops(glcm, prop='contrast'))\n",
        "    glcm_props.append(feature.graycoprops(glcm, prop='homogeneity'))\n",
        "    glcm_props.append(feature.graycoprops(glcm, prop='energy'))\n",
        "\n",
        "    glcm_props.append(feature.graycoprops(glcm, prop='correlation'))\n",
        "    glcm_props = np.array(glcm_props)\n",
        "    glcm_props = np.squeeze(glcm_props)\n",
        "\n",
        "    theta = [0, np.pi/4, np.pi/2, 3*np.pi/4]\n",
        "    frequency = [0.1, 0.5, 1.0]\n",
        "\n",
        "    gabor_features = []\n",
        "    for t in theta:\n",
        "        for f in frequency:\n",
        "          gabor_filter_real, _ = gabor(image, frequency=f, theta=t)\n",
        "          gabor_features.append(np.mean(gabor_filter_real))\n",
        "    gabor_features = np.array(gabor_features)\n",
        "    gabor_features = np.squeeze(gabor_features)\n",
        "    return lbp_hist, glcm_props,gabor_features\n"
      ]
    },
    {
      "cell_type": "code",
      "execution_count": 4,
      "metadata": {
        "id": "xrzWqFgRnLQF"
      },
      "outputs": [],
      "source": [
        "def calculate_color_moments(image):\n",
        "    channels = cv2.split(image)\n",
        "    color_moments = []\n",
        "\n",
        "    for channel in channels:\n",
        "        mean = np.mean(channel)\n",
        "        variance = np.var(channel)\n",
        "        skewness = np.mean((channel - mean) ** 3) / (variance ** (3/2) + 1e-6)\n",
        "\n",
        "        color_moments.extend([mean, variance, skewness])\n",
        "\n",
        "    return color_moments"
      ]
    },
    {
      "cell_type": "markdown",
      "metadata": {
        "id": "AfcUlPjgHMgF"
      },
      "source": [
        "## Extracting Feature from the Real time data"
      ]
    },
    {
      "cell_type": "code",
      "execution_count": null,
      "metadata": {
        "colab": {
          "base_uri": "https://localhost:8080/"
        },
        "id": "mCEy1Otto_34",
        "outputId": "90037ad4-4812-436c-9e82-9e2701ae38b2"
      },
      "outputs": [],
      "source": [
        "image = cv2.imread(\"TF-S-035.jpg\")\n",
        "hsv=hsv_mask(image)\n",
        "image_rgb = cv2.cvtColor(hsv, cv2.COLOR_BGR2RGB)\n",
        "moments = calculate_color_moments(image_rgb)\n",
        "\n",
        "image = color.rgb2gray(image)\n",
        "lbp_features, glcm_features,gabor_features = extract_lbp_glcm_features(image)\n",
        "\n",
        "gradient_x = cv2.Sobel(image, cv2.CV_64F, 1, 0, ksize=3)\n",
        "gradient_y = cv2.Sobel(image, cv2.CV_64F, 0, 1, ksize=3)\n",
        "gradient_magnitude = np.sqrt(gradient_x**2 + gradient_y**2)\n",
        "gradient_magnitude = cv2.normalize(gradient_magnitude, None, 0, 255, cv2.NORM_MINMAX, dtype=cv2.CV_8U)\n",
        "if len(gradient_magnitude.shape) != 2:\n",
        "  gradient_magnitude = cv2.cvtColor(gradient_magnitude, cv2.COLOR_BGR2GRAY)\n",
        "slbp_features, sglcm_features,sgabor_features = extract_lbp_glcm_features(gradient_magnitude)\n",
        "arr=np.concatenate((lbp_features, glcm_features,gabor_features,slbp_features, sglcm_features,sgabor_features,moments))"
      ]
    },
    {
      "cell_type": "markdown",
      "metadata": {
        "id": "Cm9wtqJ1HXkJ"
      },
      "source": [
        "## Prediction with the Trained Model"
      ]
    },
    {
      "cell_type": "code",
      "execution_count": 6,
      "metadata": {
        "id": "XH-QeqfYvbVn"
      },
      "outputs": [],
      "source": [
        "with open(\"/Model/Best_Model.pkl\",\"rb\") as file:\n",
        "  classifier=pickle.load(file)\n",
        "with open(\"/Model/pca.pkl\",\"rb\") as file:\n",
        "  pca=pickle.load(file)\n",
        "with open(\"/Model/scaler.pkl\",\"rb\") as file:\n",
        "  scaler=pickle.load(file)"
      ]
    },
    {
      "cell_type": "code",
      "execution_count": null,
      "metadata": {
        "colab": {
          "base_uri": "https://localhost:8080/"
        },
        "id": "mNBXCwEypYxG",
        "outputId": "723323f7-d1d6-46de-9eb8-5ba02fe6efdd"
      },
      "outputs": [],
      "source": [
        "X = pca.transform([arr])\n",
        "X= scaler.transform(X)\n",
        "Y=classifier.predict(X)"
      ]
    },
    {
      "cell_type": "code",
      "execution_count": 8,
      "metadata": {
        "colab": {
          "base_uri": "https://localhost:8080/"
        },
        "id": "v5Ni8V9YqKc_",
        "outputId": "3cf66d75-f139-4a9a-c807-c1d433756dac"
      },
      "outputs": [
        {
          "name": "stdout",
          "output_type": "stream",
          "text": [
            "Prediction:  Amaranthus Viridis (Arive-Dantu)\n"
          ]
        }
      ],
      "source": [
        "print(\"Prediction: \",Y[0])"
      ]
    }
  ],
  "metadata": {
    "colab": {
      "provenance": []
    },
    "kernelspec": {
      "display_name": "Python 3",
      "name": "python3"
    },
    "language_info": {
      "codemirror_mode": {
        "name": "ipython",
        "version": 3
      },
      "file_extension": ".py",
      "mimetype": "text/x-python",
      "name": "python",
      "nbconvert_exporter": "python",
      "pygments_lexer": "ipython3",
      "version": "3.11.9"
    }
  },
  "nbformat": 4,
  "nbformat_minor": 0
}
